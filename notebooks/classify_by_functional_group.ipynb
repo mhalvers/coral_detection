{
 "cells": [
  {
   "cell_type": "markdown",
   "id": "326f086e",
   "metadata": {
    "id": "326f086e"
   },
   "source": [
    "Use the annotated data to train a model to classify the remaining unlabelled pixels."
   ]
  },
  {
   "cell_type": "code",
   "execution_count": null,
   "id": "46e11b5c",
   "metadata": {
    "id": "46e11b5c"
   },
   "outputs": [],
   "source": [
    "import os\n",
    "import glob\n",
    "import random\n",
    "import matplotlib.pyplot as plt\n",
    "import matplotlib.image as mpimg\n",
    "import pandas as pd\n",
    "import numpy as np"
   ]
  },
  {
   "cell_type": "code",
   "execution_count": null,
   "id": "8bed42ca",
   "metadata": {},
   "outputs": [],
   "source": [
    "import platform\n",
    "platform.system()\n",
    "\n",
    "if platform.system() == 'Darwin':\n",
    "    is_mac = True"
   ]
  },
  {
   "cell_type": "code",
   "execution_count": null,
   "id": "bdb5aa95",
   "metadata": {},
   "outputs": [],
   "source": [
    "if not is_mac:\n",
    "    from google.colab import drive\n",
    "    drive.mount('/content/gdrive')"
   ]
  },
  {
   "cell_type": "code",
   "execution_count": null,
   "id": "26292ae4",
   "metadata": {
    "colab": {
     "base_uri": "https://localhost:8080/"
    },
    "id": "ccb1768b",
    "outputId": "d0c90771-19e7-4423-f202-885d9364c9db"
   },
   "outputs": [],
   "source": [
    "if is_mac:\n",
    "    #image_path = '/Users/Mark/fruitpunch/coral_detection/data/'\n",
    "    #annot_path = image_path\n",
    "    image_path = '/Users/Mark/Google Drive/My Drive/Reef Support Benthic Data/SEAVIEW/PAC_AUS/'\n",
    "    annot_path = '/Users/Mark/Google Drive/My Drive/Reef Support Benthic Data/SEAVIEW/tabular-data/'\n",
    "else:\n",
    "    image_path = '/content/gdrive/MyDrive/Reef Support Benthic Data/SEAVIEW/PAC_AUS/'\n",
    "    annot_path = '/content/gdrive/MyDrive/Reef Support Benthic Data/SEAVIEW/tabular-data/'"
   ]
  },
  {
   "cell_type": "code",
   "execution_count": null,
   "id": "ccb1768b",
   "metadata": {
    "colab": {
     "base_uri": "https://localhost:8080/"
    },
    "id": "ccb1768b",
    "outputId": "d0c90771-19e7-4423-f202-885d9364c9db"
   },
   "outputs": [],
   "source": [
    "#image_files = glob.glob(image_path + 11*'?' + '.jpg')\n",
    "#print(f\"{len(image_files)} images found\")"
   ]
  },
  {
   "cell_type": "code",
   "execution_count": null,
   "id": "3efc166a",
   "metadata": {
    "colab": {
     "base_uri": "https://localhost:8080/"
    },
    "id": "3efc166a",
    "outputId": "a7098ba7-cc6a-4172-d142-2c2ea5bf9c85"
   },
   "outputs": [],
   "source": [
    "annot_file = 'annotations_PAC_AUS.csv'\n",
    "df = pd.read_csv(annot_path + annot_file, index_col=0)\n",
    "df.shape"
   ]
  },
  {
   "cell_type": "code",
   "execution_count": null,
   "id": "e8d5ae82",
   "metadata": {},
   "outputs": [],
   "source": [
    "# sometimes an x,y label coordinate is outside the allowable values (based on the image dimensions)\n",
    "df.drop(index=[13002079901, 13002086701, 15033259202], inplace=True)\n",
    "df.shape"
   ]
  },
  {
   "cell_type": "code",
   "execution_count": null,
   "id": "83ab1112",
   "metadata": {},
   "outputs": [],
   "source": [
    "df.drop_duplicates(inplace=True)"
   ]
  },
  {
   "cell_type": "code",
   "execution_count": null,
   "id": "c7d1d042",
   "metadata": {},
   "outputs": [],
   "source": [
    "# select N images randomly \n",
    "N = 200\n",
    "\n",
    "keep = random.sample(df.index.unique().to_list(), N)\n",
    "df = df.loc[keep]\n",
    "df.shape"
   ]
  },
  {
   "cell_type": "code",
   "execution_count": null,
   "id": "9c3192de",
   "metadata": {},
   "outputs": [],
   "source": [
    "# index column was set to be the `quadratid`\n",
    "# this numbers refers to the name of the image\n",
    "# create a list of photo quadratids to pare down the annotations data frame\n",
    "# so it contains only the relevant data# create list of images to read from ids in label file\n",
    "ids = df.index.unique().to_list()\n",
    "image_files = [image_path + str(id) + '.jpg' for id in ids]\n",
    "len(ids)"
   ]
  },
  {
   "cell_type": "code",
   "execution_count": null,
   "id": "4ca74538",
   "metadata": {
    "colab": {
     "base_uri": "https://localhost:8080/",
     "height": 215
    },
    "id": "4ca74538",
    "outputId": "7d72ef59-129b-4b95-9fc6-e5cda8c3ec34"
   },
   "outputs": [],
   "source": [
    "# now loop over the images, and extract the pixel rgb values from the label coordinates\n",
    "    \n",
    "df[['r','g','b']] = int(0)\n",
    "\n",
    "for ctr, image_file in enumerate(image_files):\n",
    "    \n",
    "    id = int(os.path.basename(image_file).rstrip('.jpg'))\n",
    "\n",
    "    print(f'{ctr+1}/{len(image_files)} {image_file}',end='\\r') \n",
    "  \n",
    "    img = mpimg.imread(image_file)\n",
    "\n",
    "    #df.loc[id,['r','g','b']] = img[df.loc[id]['y'], df.loc[id]['x'], :]\n",
    "    df.loc[id,['r','g','b']] = img[df.loc[id]['x'], df.loc[id]['y'], :]"
   ]
  },
  {
   "cell_type": "markdown",
   "id": "f801436f",
   "metadata": {
    "id": "f801436f"
   },
   "source": [
    "Now attempt to train a model on Algae vs non-Algae"
   ]
  },
  {
   "cell_type": "code",
   "execution_count": null,
   "id": "643cff5c",
   "metadata": {
    "id": "643cff5c",
    "outputId": "39c5f27e-46fc-4ed8-861f-d96969eb8437"
   },
   "outputs": [],
   "source": [
    "df['func_group'].value_counts()"
   ]
  },
  {
   "cell_type": "code",
   "execution_count": null,
   "id": "04edc5e7",
   "metadata": {
    "id": "04edc5e7"
   },
   "outputs": [],
   "source": [
    "# define the target as coral or other\n",
    "df['is_coral'] = df['func_group'].str.contains('Coral')"
   ]
  },
  {
   "cell_type": "code",
   "execution_count": null,
   "id": "a742b1be",
   "metadata": {
    "id": "a742b1be",
    "outputId": "9a7439d3-398b-479d-a8f4-1262da6f0f84"
   },
   "outputs": [],
   "source": [
    "df['is_coral'].value_counts()"
   ]
  },
  {
   "cell_type": "markdown",
   "id": "95d04173",
   "metadata": {
    "id": "95d04173"
   },
   "source": [
    "Now the modelling"
   ]
  },
  {
   "cell_type": "code",
   "execution_count": null,
   "id": "3a694639",
   "metadata": {},
   "outputs": [],
   "source": [
    "from sklearn.preprocessing import LabelEncoder\n",
    "le = LabelEncoder()\n",
    "df['class'] = le.fit_transform(df['func_group'])"
   ]
  },
  {
   "cell_type": "code",
   "execution_count": null,
   "id": "a9dd1971",
   "metadata": {},
   "outputs": [],
   "source": [
    "df['class'].unique()"
   ]
  },
  {
   "cell_type": "code",
   "execution_count": null,
   "id": "05264d92",
   "metadata": {},
   "outputs": [],
   "source": [
    "le.inverse_transform(df['class'].unique())"
   ]
  },
  {
   "cell_type": "code",
   "execution_count": null,
   "id": "9d8fa1b7",
   "metadata": {},
   "outputs": [],
   "source": [
    "label_dict = dict(zip(le.inverse_transform(df['class'].unique()), df['class'].unique()))\n",
    "label_dict = sorted(label_dict.items(), key=lambda x: x[1])\n",
    "label_dict = dict(label_dict)\n",
    "print(label_dict)"
   ]
  },
  {
   "cell_type": "code",
   "execution_count": null,
   "id": "7812ea26",
   "metadata": {
    "id": "d6ee4df0"
   },
   "outputs": [],
   "source": [
    "# using func_group as target\n",
    "\n",
    "from sklearn.model_selection import train_test_split\n",
    "\n",
    "X_train, X_test, y_train, y_test = train_test_split(df[['r','g','b']], \n",
    "                                                    df['class'], \n",
    "                                                    train_size=0.7)"
   ]
  },
  {
   "cell_type": "code",
   "execution_count": null,
   "id": "d6ee4df0",
   "metadata": {
    "id": "d6ee4df0"
   },
   "outputs": [],
   "source": [
    "# using is_coral as target\n",
    "# from sklearn.model_selection import train_test_split\n",
    "# X_train, X_test, y_train, y_test = train_test_split(df[['r','g','b']], \n",
    "#                                                     df['is_coral'], \n",
    "#                                                     train_size=0.7)"
   ]
  },
  {
   "cell_type": "code",
   "execution_count": null,
   "id": "9abb93e6",
   "metadata": {
    "id": "5bec21e2"
   },
   "outputs": [],
   "source": [
    "from sklearn.ensemble import RandomForestClassifier\n",
    "\n",
    "#args = {}\n",
    "\n",
    "rfc = RandomForestClassifier().fit(X_train, y_train)"
   ]
  },
  {
   "cell_type": "code",
   "execution_count": null,
   "id": "45b7503c",
   "metadata": {
    "id": "45b7503c",
    "outputId": "7a882cdf-6cd9-48a5-8ea0-ea7b4f3ca3a2"
   },
   "outputs": [],
   "source": [
    "rfc.score(X_test, y_test)"
   ]
  },
  {
   "cell_type": "code",
   "execution_count": null,
   "id": "b1aef585",
   "metadata": {
    "id": "6d22eaf6",
    "outputId": "a0652534-8fa5-4efb-b57d-3e47eb4b0c4f"
   },
   "outputs": [],
   "source": [
    "# plot a randomly selected example\n",
    "\n",
    "example_image = random.choice(image_files)\n",
    "\n",
    "id = int(os.path.basename(example_image).rstrip('.jpg'))\n",
    "\n",
    "# read rgb image\n",
    "img = mpimg.imread(example_image)\n",
    "\n",
    "# predict coral or not coral\n",
    "y_pred = rfc.predict(img.reshape((-1,3))).reshape(img.shape[0:-1])"
   ]
  },
  {
   "cell_type": "code",
   "execution_count": null,
   "id": "e522a9cc",
   "metadata": {},
   "outputs": [],
   "source": [
    "label_dict.keys()"
   ]
  },
  {
   "cell_type": "code",
   "execution_count": null,
   "id": "6df4bb7c",
   "metadata": {},
   "outputs": [],
   "source": [
    "classes, counts = np.unique(y_pred, return_counts=True)\n",
    "plt.bar(classes, counts);\n",
    "plt.xticks(ticks=list(label_dict.values()), labels=list(label_dict.keys()));"
   ]
  },
  {
   "cell_type": "code",
   "execution_count": null,
   "id": "6d22eaf6",
   "metadata": {
    "id": "6d22eaf6",
    "outputId": "a0652534-8fa5-4efb-b57d-3e47eb4b0c4f",
    "scrolled": false
   },
   "outputs": [],
   "source": [
    "# make the figure\n",
    "\n",
    "# two classes\n",
    "#import matplotlib.colors\n",
    "#cmap = matplotlib.colors.ListedColormap(['black','white'])\n",
    "\n",
    "# functional groups = classes\n",
    "from matplotlib import cm\n",
    "cmap = cm.get_cmap('Accent', len(df['class'].unique()))\n",
    "\n",
    "fig, ax = plt.subplots(1,2,figsize=(14,7), constrained_layout=True)\n",
    "\n",
    "ax[0].imshow(img);\n",
    "im = ax[1].imshow(y_pred, cmap=cmap, interpolation='None', vmin=0, vmax=4);\n",
    "\n",
    "for tax in ax:\n",
    "    tax.axes.xaxis.set_visible(False)\n",
    "    tax.axes.yaxis.set_visible(False)\n",
    "\n",
    "\n",
    "# two classes    \n",
    "# cbar = fig.colorbar(im, ax=ax[1], shrink=0.6, ticks=[0.25, 0.75]);\n",
    "# cbar.ax.set_yticklabels(['Other','Coral']);\n",
    "\n",
    "cbar = fig.colorbar(im, ax=ax[1], shrink=0.8, ticks=np.linspace(0, 4, 2*5+1)[1::2]);\n",
    "cbar.ax.set_yticklabels(label_dict.keys());\n",
    "#cbar.ax.set_yticks()"
   ]
  },
  {
   "cell_type": "code",
   "execution_count": null,
   "id": "8bce4923",
   "metadata": {
    "id": "8bce4923",
    "outputId": "9dcc69f8-0953-43ac-dd86-ddf67f766259"
   },
   "outputs": [],
   "source": [
    "fig, ax = plt.subplots(1,1,figsize=(10,10), constrained_layout=True)\n",
    "ax.imshow(y_pred, cmap=cmap, interpolation='None');\n",
    "ax.axes.xaxis.set_visible(False)\n",
    "ax.axes.yaxis.set_visible(False)\n",
    "\n",
    "cbar = fig.colorbar(im, ax=ax, shrink=0.7, ticks=np.linspace(0, 4, 2*5+1)[1::2]);\n",
    "cbar.ax.set_yticklabels(list(le.classes_));\n",
    "\n",
    "#cbar = fig.colorbar(im, ax=ax, shrink=0.6, ticks=[0.25, 0.75]);\n",
    "#cbar.ax.set_yticklabels(['Other','Coral'], fontsize=12);\n",
    "\n",
    "id = int(os.path.basename(example_image).rstrip('.jpg'))\n",
    "\n",
    "ax.scatter(df.loc[id,\"x\"], df.loc[id,\"y\"], color=\"c\");\n",
    "\n",
    "for k, s in enumerate(df.loc[id]['func_group']):\n",
    "    x = df.loc[id]['x'].iloc[k]\n",
    "    y = df.loc[id]['y'].iloc[k]\n",
    "    plt.text(x, y, s, color='k', fontsize=10, \n",
    "                      bbox=dict(boxstyle=\"round\", \n",
    "                      ec=(1., 0.5, 0.5),\n",
    "                      fc=(1., 0.8, 0.8),\n",
    "                      alpha=0.8))"
   ]
  },
  {
   "cell_type": "code",
   "execution_count": null,
   "id": "0d6726cc",
   "metadata": {
    "id": "0d6726cc",
    "outputId": "794b5be1-0071-4e14-c814-10740d08f4b2"
   },
   "outputs": [],
   "source": [
    "fig, ax = plt.subplots(1,1,figsize=(10,10), constrained_layout=True)\n",
    "ax.imshow(img);\n",
    "ax.axes.xaxis.set_visible(False)\n",
    "ax.axes.yaxis.set_visible(False)\n",
    "cbar = fig.colorbar(im, ax=ax, shrink=0.6, ticks=[0.25, 0.75]);\n",
    "cbar.ax.set_yticklabels(['Other','Coral'], fontsize=12);\n",
    "\n",
    "ax.scatter(df.loc[id,\"x\"], df.loc[id,\"y\"], color=\"c\");\n",
    "\n",
    "for k, s in enumerate(df.loc[id]['func_group']):\n",
    "    x = df.loc[id]['x'].iloc[k]\n",
    "    y = df.loc[id]['y'].iloc[k]\n",
    "    plt.text(x, y, s, color='k', fontsize=10, \n",
    "                      bbox=dict(boxstyle=\"round\", \n",
    "                      ec=(1., 0.5, 0.5),\n",
    "                      fc=(1., 0.8, 0.8),\n",
    "                      alpha=0.8))"
   ]
  },
  {
   "cell_type": "code",
   "execution_count": null,
   "id": "472e8713",
   "metadata": {
    "id": "472e8713",
    "outputId": "acbc2706-c76b-4ca3-fe1a-98aeceb7fafa"
   },
   "outputs": [],
   "source": [
    "from sklearn.metrics import confusion_matrix\n",
    "from sklearn.metrics import plot_confusion_matrix\n",
    "\n",
    "fig, ax = plt.subplots(1, 1, figsize=(6,6))\n",
    "hdl = plot_confusion_matrix(rfc, X_test, y_test, ax=ax,\n",
    "                          cmap=plt.cm.Blues, normalize='all',\n",
    "                          display_labels=[\"coral\",\"not coral\"])\n",
    "hdl.im_.colorbar.remove()\n",
    "plt.tight_layout()\n",
    "#fig.savefig(\"/Users/Mark/Desktop/conf_matrix.png\", facecolor=\"w\", edgecolor='none')\n",
    "plt.show()"
   ]
  },
  {
   "cell_type": "markdown",
   "id": "3fb21af9",
   "metadata": {
    "id": "3fb21af9"
   },
   "source": [
    "Some preliminary hyperparameter tuning\n",
    "\n",
    "https://towardsdatascience.com/hyperparameter-tuning-the-random-forest-in-python-using-scikit-learn-28d2aa77dd74"
   ]
  },
  {
   "cell_type": "code",
   "execution_count": null,
   "id": "6ee9fa7c",
   "metadata": {
    "id": "6ee9fa7c"
   },
   "outputs": [],
   "source": [
    "# Number of trees in random forest\n",
    "n_estimators = [int(x) for x in np.linspace(start = 200, stop = 2000, num = 10)]\n",
    "\n",
    "# Number of features to consider at every split\n",
    "max_features = ['auto', 'sqrt']\n",
    "\n",
    "# Maximum number of levels in tree\n",
    "max_depth = [int(x) for x in np.linspace(10, 110, num = 11)]\n",
    "max_depth.append(None)\n",
    "\n",
    "# Minimum number of samples required to split a node\n",
    "min_samples_split = [2, 5, 10]\n",
    "\n",
    "# Minimum number of samples required at each leaf node\n",
    "min_samples_leaf = [1, 2, 4]\n",
    "\n",
    "# Method of selecting samples for training each tree\n",
    "bootstrap = [True, False]\n",
    "\n",
    "# Create the random grid\n",
    "random_grid = {'n_estimators': n_estimators,\n",
    "               'max_features': max_features,\n",
    "               'max_depth': max_depth,\n",
    "               'min_samples_split': min_samples_split,\n",
    "               'min_samples_leaf': min_samples_leaf,\n",
    "               'bootstrap': bootstrap}"
   ]
  },
  {
   "cell_type": "code",
   "execution_count": null,
   "id": "fe9b1565",
   "metadata": {
    "id": "fe9b1565"
   },
   "outputs": [],
   "source": [
    "from sklearn.model_selection import RandomizedSearchCV\n",
    "rf_random = RandomizedSearchCV(estimator=RandomForestClassifier(), \n",
    "                               param_distributions = random_grid, \n",
    "                               n_iter = 70, cv = 5, random_state = 42, n_jobs = -1)"
   ]
  },
  {
   "cell_type": "code",
   "execution_count": null,
   "id": "50281a56",
   "metadata": {
    "id": "50281a56",
    "outputId": "812fc32a-653f-4e91-c857-aa120dca5701"
   },
   "outputs": [],
   "source": [
    "rf_random.fit(X_train, y_train)"
   ]
  },
  {
   "cell_type": "code",
   "execution_count": null,
   "id": "bef39f2e",
   "metadata": {
    "id": "bef39f2e",
    "outputId": "ef3c56d7-e7e9-4218-80c9-dd322c559c61"
   },
   "outputs": [],
   "source": [
    "rf_random.best_params_"
   ]
  },
  {
   "cell_type": "code",
   "execution_count": null,
   "id": "be559be0",
   "metadata": {
    "id": "be559be0",
    "outputId": "b0597627-a327-454d-d458-f72940768861"
   },
   "outputs": [],
   "source": [
    "base_model = RandomForestClassifier()\n",
    "base_model.fit(X_train, y_train)\n",
    "\n",
    "print(f'Base model test set accuracy: {100*np.round(base_model.score(X_test, y_test), 2) }%')"
   ]
  },
  {
   "cell_type": "code",
   "execution_count": null,
   "id": "7aa201c4",
   "metadata": {
    "id": "7aa201c4",
    "outputId": "843f5628-bf81-4afb-cf1d-aeb3633f99f2"
   },
   "outputs": [],
   "source": [
    "tuned_model = rf_random.best_estimator_\n",
    "tuned_model.fit(X_train, y_train)\n",
    "\n",
    "print(f'Tuned model test set accuracy: {100*np.round(tuned_model.score(X_test, y_test), 2) }%')"
   ]
  },
  {
   "cell_type": "code",
   "execution_count": null,
   "id": "eba70b72",
   "metadata": {
    "id": "eba70b72",
    "outputId": "bc011499-f275-4a17-ebef-22a52f0660c6"
   },
   "outputs": [],
   "source": [
    "fig, ax = plt.subplots(1, 1, figsize=(6,6))\n",
    "plot_confusion_matrix(tuned_model, X_test, y_test, ax=ax,\n",
    "                      cmap=plt.cm.Blues, normalize='all',\n",
    "                      display_labels=[\"coral\",\"not coral\"])\n",
    "plt.tight_layout()\n",
    "#fig.savefig(\"/Users/Mark/Desktop/conf_matrix.png\", facecolor=\"w\", edgecolor='none')\n",
    "plt.show()"
   ]
  }
 ],
 "metadata": {
  "colab": {
   "name": "classify_all_pixels_in_image_from_labels_multiple_training_images.ipynb",
   "provenance": []
  },
  "kernelspec": {
   "display_name": "Python 3",
   "language": "python",
   "name": "python3"
  },
  "language_info": {
   "codemirror_mode": {
    "name": "ipython",
    "version": 3
   },
   "file_extension": ".py",
   "mimetype": "text/x-python",
   "name": "python",
   "nbconvert_exporter": "python",
   "pygments_lexer": "ipython3",
   "version": "3.9.5"
  }
 },
 "nbformat": 4,
 "nbformat_minor": 5
}
