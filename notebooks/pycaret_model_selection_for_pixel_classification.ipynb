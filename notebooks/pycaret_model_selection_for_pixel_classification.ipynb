{
 "cells": [
  {
   "cell_type": "code",
   "execution_count": null,
   "id": "bf7ac1ee",
   "metadata": {},
   "outputs": [],
   "source": [
    "import glob\n",
    "import random\n",
    "import os\n",
    "import pandas as pd\n",
    "import matplotlib.image as mpimg"
   ]
  },
  {
   "cell_type": "code",
   "execution_count": null,
   "id": "a6c6ba79",
   "metadata": {},
   "outputs": [],
   "source": [
    "import platform\n",
    "platform.system()\n",
    "\n",
    "if platform.system() == 'Darwin':\n",
    "    is_mac = True"
   ]
  },
  {
   "cell_type": "code",
   "execution_count": null,
   "id": "a43ec43c",
   "metadata": {},
   "outputs": [],
   "source": [
    "if not is_mac:\n",
    "    !pip install pycaret"
   ]
  },
  {
   "cell_type": "code",
   "execution_count": null,
   "id": "7c54a979",
   "metadata": {},
   "outputs": [],
   "source": [
    "if not is_mac:\n",
    "    from google.colab import drive\n",
    "    drive.mount('/content/gdrive')"
   ]
  },
  {
   "cell_type": "code",
   "execution_count": null,
   "id": "240bba64",
   "metadata": {},
   "outputs": [],
   "source": [
    "if is_mac:\n",
    "    image_path = '/Users/Mark/Google Drive/My Drive/Reef Support Benthic Data/SEAVIEW/PAC_AUS/'\n",
    "    annot_path = '/Users/Mark/Google Drive/My Drive/Reef Support Benthic Data/SEAVIEW/tabular-data/'\n",
    "else:\n",
    "    image_path = '/content/gdrive/MyDrive/Reef Support Benthic Data/SEAVIEW/PAC_AUS/'\n",
    "    annot_path = '/content/gdrive/MyDrive/Reef Support Benthic Data/SEAVIEW/tabular-data/'"
   ]
  },
  {
   "cell_type": "code",
   "execution_count": null,
   "id": "535afdc4",
   "metadata": {},
   "outputs": [],
   "source": [
    "annot_file = 'annotations_PAC_AUS.csv'\n",
    "df = pd.read_csv(annot_path + annot_file, index_col=0)\n",
    "df.shape"
   ]
  },
  {
   "cell_type": "code",
   "execution_count": null,
   "id": "954e5cfc",
   "metadata": {},
   "outputs": [],
   "source": [
    "# sometimes an x,y label coordinate is outside the allowable values (based on the image dimensions)\n",
    "df.drop(index=[13002079901, 13002086701, 15033259202], inplace=True)\n",
    "df.shape"
   ]
  },
  {
   "cell_type": "code",
   "execution_count": null,
   "id": "0cd14bf9",
   "metadata": {},
   "outputs": [],
   "source": [
    "df.index.unique().shape"
   ]
  },
  {
   "cell_type": "code",
   "execution_count": null,
   "id": "13674c86",
   "metadata": {},
   "outputs": [],
   "source": [
    "# select N images randomly \n",
    "N = 500\n",
    "\n",
    "keep = random.sample(df.index.unique().to_list(), N)\n",
    "df = df.loc[keep]\n",
    "df.shape"
   ]
  },
  {
   "cell_type": "code",
   "execution_count": null,
   "id": "6945ecb8",
   "metadata": {},
   "outputs": [],
   "source": [
    "# create list of images to read from ids in label file\n",
    "ids = df.index.unique().to_list()\n",
    "image_files = [image_path + str(id) + '.jpg' for id in ids]\n",
    "len(ids)"
   ]
  },
  {
   "cell_type": "code",
   "execution_count": null,
   "id": "124aa8b7",
   "metadata": {},
   "outputs": [],
   "source": [
    "df[['r','g','b']] = int(0)\n",
    "\n",
    "for ctr, image_file in enumerate(image_files):\n",
    "    id = int(os.path.basename(image_file).rstrip('.jpg'))\n",
    "    #print(image_file, id)\n",
    "    img = mpimg.imread(image_file)\n",
    "    df.loc[id,['r','g','b']] = img[df.loc[id]['y'], df.loc[id]['x'], :] \n",
    "    #df.loc[id,['r','g','b']] = img[df.loc[id]['x'], df.loc[id]['y'], :] \n",
    "    print(f'{ctr+1}/{len(image_files)}',end='\\r')"
   ]
  },
  {
   "cell_type": "code",
   "execution_count": null,
   "id": "e054a377",
   "metadata": {},
   "outputs": [],
   "source": [
    "df.head()"
   ]
  },
  {
   "cell_type": "code",
   "execution_count": null,
   "id": "a8587087",
   "metadata": {},
   "outputs": [],
   "source": [
    "df['is_coral'] = df['func_group'].str.contains('Coral')"
   ]
  },
  {
   "cell_type": "code",
   "execution_count": null,
   "id": "6d7620ca",
   "metadata": {},
   "outputs": [],
   "source": [
    "df.reset_index(inplace=True)"
   ]
  },
  {
   "cell_type": "code",
   "execution_count": null,
   "id": "05fcb7c8",
   "metadata": {},
   "outputs": [],
   "source": [
    "df.drop(columns=['quadratid','y','x','label_name','label','func_group','method','data_set'], inplace=True)"
   ]
  },
  {
   "cell_type": "code",
   "execution_count": null,
   "id": "50265a41",
   "metadata": {},
   "outputs": [],
   "source": [
    "data = df.sample(frac=0.95, random_state=786)\n",
    "data_unseen = df.drop(data.index)\n",
    "data.reset_index(inplace=True, drop=True)\n",
    "data_unseen.reset_index(inplace=True, drop=True)\n",
    "print('Data for Modeling: ' + str(data.shape))\n",
    "print('Unseen Data For Predictions: ' + str(data_unseen.shape))"
   ]
  },
  {
   "cell_type": "code",
   "execution_count": null,
   "id": "32dc15cd",
   "metadata": {},
   "outputs": [],
   "source": [
    "from pycaret.classification import *"
   ]
  },
  {
   "cell_type": "code",
   "execution_count": null,
   "id": "f298aa1d",
   "metadata": {},
   "outputs": [],
   "source": [
    "pyc = setup(data=data, target='is_coral', session_id=123, silent=True)"
   ]
  },
  {
   "cell_type": "code",
   "execution_count": null,
   "id": "9bc5787d",
   "metadata": {},
   "outputs": [],
   "source": [
    "best_model = compare_models()"
   ]
  },
  {
   "cell_type": "code",
   "execution_count": null,
   "id": "6136f931",
   "metadata": {},
   "outputs": [],
   "source": [
    "print(best_model)"
   ]
  },
  {
   "cell_type": "code",
   "execution_count": null,
   "id": "d2c6138a",
   "metadata": {},
   "outputs": [],
   "source": [
    "rf = create_model('rf')"
   ]
  },
  {
   "cell_type": "code",
   "execution_count": null,
   "id": "2c5b0693",
   "metadata": {},
   "outputs": [],
   "source": [
    "print(rf)"
   ]
  },
  {
   "cell_type": "code",
   "execution_count": null,
   "id": "d7063c9a",
   "metadata": {},
   "outputs": [],
   "source": [
    "tuned_rf = tune_model(rf)"
   ]
  },
  {
   "cell_type": "code",
   "execution_count": null,
   "id": "39a108e1",
   "metadata": {},
   "outputs": [],
   "source": [
    "print(tuned_rf)"
   ]
  },
  {
   "cell_type": "code",
   "execution_count": null,
   "id": "90eddc21",
   "metadata": {},
   "outputs": [],
   "source": [
    "plot_model(tuned_rf, plot = 'confusion_matrix')"
   ]
  },
  {
   "cell_type": "code",
   "execution_count": null,
   "id": "a658b132",
   "metadata": {},
   "outputs": [],
   "source": [
    "plot_model(tuned_rf, plot='feature')"
   ]
  },
  {
   "cell_type": "code",
   "execution_count": null,
   "id": "b2c7b1a3",
   "metadata": {},
   "outputs": [],
   "source": [
    "predict_model(tuned_rf);"
   ]
  }
 ],
 "metadata": {
  "kernelspec": {
   "display_name": "pycarrot",
   "language": "python",
   "name": "pycarrot"
  },
  "language_info": {
   "codemirror_mode": {
    "name": "ipython",
    "version": 3
   },
   "file_extension": ".py",
   "mimetype": "text/x-python",
   "name": "python",
   "nbconvert_exporter": "python",
   "pygments_lexer": "ipython3",
   "version": "3.8.12"
  }
 },
 "nbformat": 4,
 "nbformat_minor": 5
}
