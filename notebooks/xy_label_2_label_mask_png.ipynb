{
 "cells": [
  {
   "cell_type": "code",
   "execution_count": 1,
   "id": "3658b8bc",
   "metadata": {},
   "outputs": [],
   "source": [
    "import os\n",
    "import glob\n",
    "import random\n",
    "import matplotlib.pyplot as plt\n",
    "from PIL import Image\n",
    "import pandas as pd\n",
    "import numpy as np"
   ]
  },
  {
   "cell_type": "code",
   "execution_count": 2,
   "id": "68cdbbc9",
   "metadata": {},
   "outputs": [],
   "source": [
    "image_files = glob.glob('/Users/Mark/fruitpunch/coral_detection/dataset/images/*/*jpg')\n",
    "#print(image_files)"
   ]
  },
  {
   "cell_type": "code",
   "execution_count": 3,
   "id": "cb13aece",
   "metadata": {},
   "outputs": [
    {
     "name": "stdout",
     "output_type": "stream",
     "text": [
      "21 images found\n"
     ]
    }
   ],
   "source": [
    "print(f\"{len(image_files)} images found\")"
   ]
  },
  {
   "cell_type": "code",
   "execution_count": 4,
   "id": "f7ae7e8a",
   "metadata": {},
   "outputs": [
    {
     "data": {
      "text/plain": [
       "(186420, 7)"
      ]
     },
     "execution_count": 4,
     "metadata": {},
     "output_type": "execute_result"
    }
   ],
   "source": [
    "annot_path = '/Users/Mark/fruitpunch/coral_detection/data/'\n",
    "annot_file = 'annotations_PAC_AUS.csv'\n",
    "df = pd.read_csv(annot_path + annot_file, index_col=0)\n",
    "df.shape"
   ]
  },
  {
   "cell_type": "code",
   "execution_count": 5,
   "id": "90b4e549",
   "metadata": {},
   "outputs": [
    {
     "data": {
      "text/plain": [
       "(1380, 7)"
      ]
     },
     "execution_count": 5,
     "metadata": {},
     "output_type": "execute_result"
    }
   ],
   "source": [
    "# subset the annotation file to retain just the images we're looking at\n",
    "ids = [int(os.path.basename(fname).rstrip('.jpg')) for fname in image_files]\n",
    "df = df.loc[ids]\n",
    "df.shape"
   ]
  },
  {
   "cell_type": "code",
   "execution_count": 6,
   "id": "100b2b09",
   "metadata": {},
   "outputs": [],
   "source": [
    "# define the target as coral or other\n",
    "df['is_coral'] = df['func_group'].str.contains('Coral')"
   ]
  },
  {
   "cell_type": "code",
   "execution_count": 9,
   "id": "ce9c9638",
   "metadata": {},
   "outputs": [
    {
     "name": "stdout",
     "output_type": "stream",
     "text": [
      "wrote: /Users/Mark/fruitpunch/coral_detection/dataset/labels/test/45026223001_mask.png\n",
      "wrote: /Users/Mark/fruitpunch/coral_detection/dataset/labels/test/35027251902_mask.png\n",
      "wrote: /Users/Mark/fruitpunch/coral_detection/dataset/labels/test/35025041202_mask.png\n",
      "wrote: /Users/Mark/fruitpunch/coral_detection/dataset/labels/test/35029034602_mask.png\n",
      "wrote: /Users/Mark/fruitpunch/coral_detection/dataset/labels/test/45021044301_mask.png\n",
      "wrote: /Users/Mark/fruitpunch/coral_detection/dataset/labels/train/11004109702_mask.png\n",
      "wrote: /Users/Mark/fruitpunch/coral_detection/dataset/labels/train/12025020401_mask.png\n",
      "wrote: /Users/Mark/fruitpunch/coral_detection/dataset/labels/train/13002098001_mask.png\n",
      "wrote: /Users/Mark/fruitpunch/coral_detection/dataset/labels/train/10001003801_mask.png\n",
      "wrote: /Users/Mark/fruitpunch/coral_detection/dataset/labels/train/12005061605_mask.png\n",
      "wrote: /Users/Mark/fruitpunch/coral_detection/dataset/labels/train/15025060801_mask.png\n",
      "wrote: /Users/Mark/fruitpunch/coral_detection/dataset/labels/train/12021047801_mask.png\n",
      "wrote: /Users/Mark/fruitpunch/coral_detection/dataset/labels/train/15033259302_mask.png\n",
      "wrote: /Users/Mark/fruitpunch/coral_detection/dataset/labels/train/10006112702_mask.png\n",
      "wrote: /Users/Mark/fruitpunch/coral_detection/dataset/labels/train/15026109202_mask.png\n",
      "wrote: /Users/Mark/fruitpunch/coral_detection/dataset/labels/train/15009006702_mask.png\n",
      "wrote: /Users/Mark/fruitpunch/coral_detection/dataset/labels/train/11005104401_mask.png\n",
      "wrote: /Users/Mark/fruitpunch/coral_detection/dataset/labels/train/14007262601_mask.png\n",
      "wrote: /Users/Mark/fruitpunch/coral_detection/dataset/labels/train/12027223201_mask.png\n",
      "wrote: /Users/Mark/fruitpunch/coral_detection/dataset/labels/train/10019058301_mask.png\n",
      "wrote: /Users/Mark/fruitpunch/coral_detection/dataset/labels/train/15009005702_mask.png\n"
     ]
    }
   ],
   "source": [
    "for image in image_files:\n",
    "    \n",
    "    id = int(os.path.basename(image).rstrip('.jpg'))\n",
    "    \n",
    "    with Image.open(image) as img:\n",
    "         mask_shape = img.size\n",
    "    \n",
    "    df_img = df.loc[id]\n",
    "    \n",
    "    ind = df_img['is_coral'] == 1\n",
    "    \n",
    "    mask_array = np.zeros(mask_shape, dtype=np.uint8)\n",
    "    mask_array[df_img.loc[ind,'x'],df_img.loc[ind,'y']] = 255\n",
    "\n",
    "    im = Image.fromarray(mask_array)\n",
    "    \n",
    "    mask_path = os.path.dirname(image.replace('images','labels')) + '/'\n",
    "    mask_file_name = os.path.basename(image).rsplit('.jpg')[0] + '_mask.png'\n",
    "    \n",
    "    im.save(mask_path + mask_file_name)\n",
    "    \n",
    "    print(f\"wrote: {mask_path + mask_file_name}\")"
   ]
  },
  {
   "cell_type": "code",
   "execution_count": 10,
   "id": "0c3f3912",
   "metadata": {},
   "outputs": [
    {
     "data": {
      "text/plain": [
       "(1031, 1031)"
      ]
     },
     "execution_count": 10,
     "metadata": {},
     "output_type": "execute_result"
    }
   ],
   "source": [
    "import matplotlib.image as mpimg\n",
    "img = mpimg.imread(mask_path + mask_file_name)\n",
    "img.shape"
   ]
  },
  {
   "cell_type": "code",
   "execution_count": 11,
   "id": "401aceac",
   "metadata": {},
   "outputs": [],
   "source": [
    "!open \"{mask_path+mask_file_name}\""
   ]
  },
  {
   "cell_type": "code",
   "execution_count": 12,
   "id": "ad173f23",
   "metadata": {},
   "outputs": [],
   "source": [
    "!open \"{image}\""
   ]
  }
 ],
 "metadata": {
  "kernelspec": {
   "display_name": "Python 3",
   "language": "python",
   "name": "python3"
  },
  "language_info": {
   "codemirror_mode": {
    "name": "ipython",
    "version": 3
   },
   "file_extension": ".py",
   "mimetype": "text/x-python",
   "name": "python",
   "nbconvert_exporter": "python",
   "pygments_lexer": "ipython3",
   "version": "3.9.5"
  }
 },
 "nbformat": 4,
 "nbformat_minor": 5
}
