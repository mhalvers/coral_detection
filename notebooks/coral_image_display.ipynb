{
 "cells": [
  {
   "cell_type": "markdown",
   "metadata": {
    "id": "vINkYVj9ZzgB"
   },
   "source": [
    "Code to explore the SEAVIEW dataset.  It contains classified pixels."
   ]
  },
  {
   "cell_type": "code",
   "execution_count": null,
   "metadata": {
    "executionInfo": {
     "elapsed": 330,
     "status": "ok",
     "timestamp": 1634581855423,
     "user": {
      "displayName": "Mark Halverson",
      "photoUrl": "https://lh3.googleusercontent.com/a-/AOh14Gj-7oSKd3gpd3dPii6TMTeabyDylFalVR7fODB73Q=s64",
      "userId": "17366284771585298963"
     },
     "user_tz": 420
    },
    "id": "LUsv2DZ8CWsD"
   },
   "outputs": [],
   "source": [
    "import os\n",
    "import random\n",
    "import glob\n",
    "import pandas as pd\n",
    "import numpy as np\n",
    "import matplotlib.pyplot as plt\n",
    "import matplotlib.image as mpimg"
   ]
  },
  {
   "cell_type": "code",
   "execution_count": null,
   "metadata": {
    "colab": {
     "base_uri": "https://localhost:8080/"
    },
    "executionInfo": {
     "elapsed": 24704,
     "status": "ok",
     "timestamp": 1634577423728,
     "user": {
      "displayName": "Mark Halverson",
      "photoUrl": "https://lh3.googleusercontent.com/a-/AOh14Gj-7oSKd3gpd3dPii6TMTeabyDylFalVR7fODB73Q=s64",
      "userId": "17366284771585298963"
     },
     "user_tz": 420
    },
    "id": "6326zjZhAE_W",
    "outputId": "4d7a4cac-a3fa-4861-e4a0-b87438991e91"
   },
   "outputs": [],
   "source": [
    "#from google.colab import drive\n",
    "#drive.mount('/content/gdrive')"
   ]
  },
  {
   "cell_type": "code",
   "execution_count": null,
   "metadata": {
    "executionInfo": {
     "elapsed": 353,
     "status": "ok",
     "timestamp": 1634579375142,
     "user": {
      "displayName": "Mark Halverson",
      "photoUrl": "https://lh3.googleusercontent.com/a-/AOh14Gj-7oSKd3gpd3dPii6TMTeabyDylFalVR7fODB73Q=s64",
      "userId": "17366284771585298963"
     },
     "user_tz": 420
    },
    "id": "w0fGeigcaKsM"
   },
   "outputs": [],
   "source": [
    "#image_path = '/content/gdrive/MyDrive/Reef Support Benthic Data/SEAVIEW/IND_MDV/'\n",
    "#annot_path = '/content/gdrive/MyDrive/Reef Support Benthic Data/SEAVIEW/tabular-data/'\n",
    "\n",
    "image_path = '/Users/Mark/fruitpunch/coral_detection/data/'\n",
    "annot_path = image_path\n",
    "\n",
    "annot_file = 'annotations_PAC_AUS.csv'"
   ]
  },
  {
   "cell_type": "code",
   "execution_count": null,
   "metadata": {},
   "outputs": [],
   "source": [
    "image_files = glob.glob(image_path + 11*'?' + '.jpg')\n",
    "print(f\"{len(image_files)} images found\")"
   ]
  },
  {
   "cell_type": "code",
   "execution_count": null,
   "metadata": {},
   "outputs": [],
   "source": [
    "# select N images randomly \n",
    "\n",
    "#N = 1\n",
    "#image_file = random.sample(image_files,N)[0]"
   ]
  },
  {
   "cell_type": "code",
   "execution_count": null,
   "metadata": {},
   "outputs": [],
   "source": [
    "# choose a specific file\n",
    "image_file = '/Users/Mark/Google Drive/My Drive/Reef Support Benthic Data/SEAVIEW/PAC_AUS/13002079901.jpg'"
   ]
  },
  {
   "cell_type": "code",
   "execution_count": null,
   "metadata": {
    "executionInfo": {
     "elapsed": 415,
     "status": "ok",
     "timestamp": 1634582003678,
     "user": {
      "displayName": "Mark Halverson",
      "photoUrl": "https://lh3.googleusercontent.com/a-/AOh14Gj-7oSKd3gpd3dPii6TMTeabyDylFalVR7fODB73Q=s64",
      "userId": "17366284771585298963"
     },
     "user_tz": 420
    },
    "id": "S1Gm1VCLa34M"
   },
   "outputs": [],
   "source": [
    "df = pd.read_csv(annot_path + annot_file, index_col=0)"
   ]
  },
  {
   "cell_type": "code",
   "execution_count": null,
   "metadata": {
    "executionInfo": {
     "elapsed": 5,
     "status": "ok",
     "timestamp": 1634582004923,
     "user": {
      "displayName": "Mark Halverson",
      "photoUrl": "https://lh3.googleusercontent.com/a-/AOh14Gj-7oSKd3gpd3dPii6TMTeabyDylFalVR7fODB73Q=s64",
      "userId": "17366284771585298963"
     },
     "user_tz": 420
    },
    "id": "mOVBjZ9LiqBV"
   },
   "outputs": [],
   "source": [
    "id = os.path.basename(image_file).rstrip('.jpg')\n",
    "id = int(id)"
   ]
  },
  {
   "cell_type": "code",
   "execution_count": null,
   "metadata": {
    "executionInfo": {
     "elapsed": 412,
     "status": "ok",
     "timestamp": 1634582007874,
     "user": {
      "displayName": "Mark Halverson",
      "photoUrl": "https://lh3.googleusercontent.com/a-/AOh14Gj-7oSKd3gpd3dPii6TMTeabyDylFalVR7fODB73Q=s64",
      "userId": "17366284771585298963"
     },
     "user_tz": 420
    },
    "id": "-2hEg4t4a37N"
   },
   "outputs": [],
   "source": [
    "df = df.loc[id]\n",
    "#df"
   ]
  },
  {
   "cell_type": "code",
   "execution_count": null,
   "metadata": {
    "executionInfo": {
     "elapsed": 321,
     "status": "ok",
     "timestamp": 1634582044034,
     "user": {
      "displayName": "Mark Halverson",
      "photoUrl": "https://lh3.googleusercontent.com/a-/AOh14Gj-7oSKd3gpd3dPii6TMTeabyDylFalVR7fODB73Q=s64",
      "userId": "17366284771585298963"
     },
     "user_tz": 420
    },
    "id": "q8hOLxi5lXqh"
   },
   "outputs": [],
   "source": [
    "img = mpimg.imread(image_file)"
   ]
  },
  {
   "cell_type": "code",
   "execution_count": null,
   "metadata": {
    "colab": {
     "base_uri": "https://localhost:8080/",
     "height": 812
    },
    "executionInfo": {
     "elapsed": 8727,
     "status": "ok",
     "timestamp": 1634582614238,
     "user": {
      "displayName": "Mark Halverson",
      "photoUrl": "https://lh3.googleusercontent.com/a-/AOh14Gj-7oSKd3gpd3dPii6TMTeabyDylFalVR7fODB73Q=s64",
      "userId": "17366284771585298963"
     },
     "user_tz": 420
    },
    "id": "H8ixhHtDa3-U",
    "outputId": "7442dab7-95cb-4a09-d4df-0d3f3c7b5e06"
   },
   "outputs": [],
   "source": [
    "fig, ax = plt.subplots(1,1, figsize=(14,14))\n",
    "ax.imshow(img);\n",
    "ax.scatter(df[\"x\"], df[\"y\"], color=\"c\");\n",
    "for k, txt in enumerate(df[\"label_name\"]):\n",
    "  x = df[\"x\"].iloc[k]\n",
    "  y = df[\"y\"].iloc[k]\n",
    "  s = df[\"label_name\"].iloc[k]\n",
    "  plt.text(x, y, s, color='k', fontsize=10, \n",
    "           bbox=dict(boxstyle=\"round\", \n",
    "                     ec=(1., 0.5, 0.5),\n",
    "                     fc=(1., 0.8, 0.8),\n",
    "                     alpha=0.5))\n"
   ]
  },
  {
   "cell_type": "markdown",
   "metadata": {
    "id": "MRMYjDhxa46M"
   },
   "source": [
    "Code to count the number of images, etc..."
   ]
  },
  {
   "cell_type": "code",
   "execution_count": null,
   "metadata": {
    "id": "UYZXbacCD2Va"
   },
   "outputs": [],
   "source": [
    "path_list = []\n",
    "\n",
    "from pathlib import Path\n",
    "for path in Path('.').rglob('*.jpg'):\n",
    "  print(path.absolute)\n",
    "  path_list.append(path)"
   ]
  },
  {
   "cell_type": "code",
   "execution_count": null,
   "metadata": {
    "id": "kwwteWSmEH3C"
   },
   "outputs": [],
   "source": [
    "print(path.absolute)"
   ]
  },
  {
   "cell_type": "code",
   "execution_count": null,
   "metadata": {
    "id": "EhC7OxodHBFO"
   },
   "outputs": [],
   "source": [
    "path_list[1]"
   ]
  },
  {
   "cell_type": "code",
   "execution_count": null,
   "metadata": {
    "id": "nF7X0pKRHDH2"
   },
   "outputs": [],
   "source": [
    "Image(filename=path_list[1].absolute)"
   ]
  }
 ],
 "metadata": {
  "colab": {
   "collapsed_sections": [],
   "name": "coral_image_display.ipynb",
   "provenance": [
    {
     "file_id": "1OXEXXc2FuVgYGQTb3KTOFF6cb836v6rw",
     "timestamp": 1634576310884
    }
   ]
  },
  "kernelspec": {
   "display_name": "Python 3",
   "language": "python",
   "name": "python3"
  },
  "language_info": {
   "codemirror_mode": {
    "name": "ipython",
    "version": 3
   },
   "file_extension": ".py",
   "mimetype": "text/x-python",
   "name": "python",
   "nbconvert_exporter": "python",
   "pygments_lexer": "ipython3",
   "version": "3.9.5"
  }
 },
 "nbformat": 4,
 "nbformat_minor": 1
}
